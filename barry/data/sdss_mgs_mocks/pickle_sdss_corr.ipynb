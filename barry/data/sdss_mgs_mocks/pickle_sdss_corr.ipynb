{
 "cells": [
  {
   "cell_type": "code",
   "execution_count": 1,
   "metadata": {},
   "outputs": [],
   "source": [
    "import pickle\n",
    "import pandas as pd\n",
    "import numpy as np\n",
    "import os\n",
    "d = \"raw/corr/\"\n",
    "files = sorted([d + f for f in os.listdir(d) if f.endswith(\"dat\")])"
   ]
  },
  {
   "cell_type": "code",
   "execution_count": 2,
   "metadata": {},
   "outputs": [],
   "source": [
    "def getdf(loc):\n",
    "    df = pd.read_csv(loc, comment=\"#\", delim_whitespace=True, names=[\"s\", \"xi\", \"xi0\", \"xi2\", \"xi4\"])\n",
    "    output = df.to_numpy().astype(np.float32)\n",
    "    return output\n",
    "res = {f.lower(): getdf(f) for f in files}\n",
    "split = {\n",
    "    \"pre-recon\": [v for k, v in res.items() if \"recon\" not in k],\n",
    "    \"post-recon\": [v for k, v in res.items() if \"recon\" in k],\n",
    "    \"cosmology\": {\"om\": 0.31, \"h0\": 0.67, \"z\": 0.15, \"ob\": 0.0491, \"ns\": 0.96, \"reconsmoothscale\": 21.21},\n",
    "    \"name\": \"SDSS MGS DR7 corr\"\n",
    "}"
   ]
  },
  {
   "cell_type": "code",
   "execution_count": 3,
   "metadata": {},
   "outputs": [],
   "source": [
    "with open(\"../sdss_dr7_corr.pkl\", \"wb\") as f:\n",
    "    pickle.dump(split, f)\n",
    "a = split[\"pre-recon\"][0]"
   ]
  },
  {
   "cell_type": "code",
   "execution_count": null,
   "metadata": {
    "collapsed": true
   },
   "outputs": [],
   "source": []
  }
 ],
 "metadata": {
  "kernelspec": {
   "display_name": "Python 3",
   "language": "python",
   "name": "python3"
  },
  "language_info": {
   "codemirror_mode": {
    "name": "ipython",
    "version": 3
   },
   "file_extension": ".py",
   "mimetype": "text/x-python",
   "name": "python",
   "nbconvert_exporter": "python",
   "pygments_lexer": "ipython3",
   "version": "3.6.8"
  }
 },
 "nbformat": 4,
 "nbformat_minor": 2
}
