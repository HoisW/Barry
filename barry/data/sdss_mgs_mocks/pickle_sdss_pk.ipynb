{
 "cells": [
  {
   "cell_type": "code",
   "execution_count": 14,
   "metadata": {},
   "outputs": [],
   "source": [
    "import pickle\n",
    "import pandas as pd\n",
    "import numpy as np\n",
    "import os\n",
    "d = \"raw/pk/\"\n",
    "files = sorted([d + f for f in os.listdir(d) if f.endswith(\"lpow\")])"
   ]
  },
  {
   "cell_type": "code",
   "execution_count": 15,
   "metadata": {},
   "outputs": [
    {
     "name": "stdout",
     "output_type": "stream",
     "text": [
      "['./bin0_winfit_10.txt', './bin0_winfit_5.txt', './bin0_winfit_7.txt']\n",
      "Loading winfit from ./bin0_winfit_10.txt\n",
      "Loading winfit from ./bin0_winfit_5.txt\n",
      "Loading winfit from ./bin0_winfit_7.txt\n",
      "./lwin.txt\n"
     ]
    }
   ],
   "source": [
    "def getdf(loc):\n",
    "    df = pd.read_csv(loc, comment=\"#\", delim_whitespace=True, names=[\"i\", \"k\", \"pk\", \"nk\"])\n",
    "    mask = (df[\"nk\"] > 0) & (df[\"k\"] <= 0.4)\n",
    "    masked = df.loc[mask, [\"k\", \"pk\", \"nk\"]]\n",
    "    return masked.astype(np.float32)\n",
    "\n",
    "def get_winfits(directory):\n",
    "    files = sorted([directory + f for f in os.listdir(directory) if \"winfit\" in f])\n",
    "    print(files)\n",
    "    winfits = {}\n",
    "    for winfit_file in files:\n",
    "        step_size = int(winfit_file.split(\".\")[-2].split(\"_\")[-1])\n",
    "        print(f\"Loading winfit from {winfit_file}\")\n",
    "        matrix = np.genfromtxt(winfit_file, skip_header=4)\n",
    "        res = {}\n",
    "        winfits[step_size] = res\n",
    "        res[\"w_ks_input\"] = matrix[:, 0]\n",
    "        res[\"w_k0_scale\"] = matrix[:, 1]\n",
    "        res[\"w_transform\"] = matrix[:, 2:]/(np.sum(matrix[:, 2:], axis=0))\n",
    "        # God I am sorry for doing this manually but the file format is... tricky\n",
    "        with open(winfit_file, \"r\") as f:\n",
    "            res[\"w_ks_output\"] = np.array([float(x) for x in f.readlines()[2].split()[1:]])\n",
    "    return winfits\n",
    "\n",
    "def get_winpk(directory):\n",
    "    files = sorted([directory + f for f in os.listdir(directory) if \"lwin\" in f])\n",
    "    assert len(files) == 1, str(files)\n",
    "    print(files[0])\n",
    "    data = np.genfromtxt(files[0])\n",
    "    return data\n",
    "\n",
    "res = {f.lower(): getdf(f) for f in files}\n",
    "split = {\n",
    "    \"pre-recon\": [v for k, v in res.items() if \"recon\" not in k],\n",
    "    \"post-recon\": [v for k, v in res.items() if \"recon\" in k],\n",
    "    \"cosmology\": {\"om\": 0.31, \"h0\": 0.67, \"z\": 0.15, \"ob\": 0.0491, \"ns\": 0.96, \"reconsmoothscale\": 21.21},\n",
    "    \"name\": \"SDSS MGS DR7 Pk\",\n",
    "    \"winfit\": get_winfits(\"./\"),\n",
    "    \"winpk\": get_winpk(\"./\")\n",
    "}"
   ]
  },
  {
   "cell_type": "code",
   "execution_count": 16,
   "metadata": {},
   "outputs": [],
   "source": [
    "with open(\"../sdss_dr7_pk.pkl\", \"wb\") as f:\n",
    "    pickle.dump(split, f)"
   ]
  },
  {
   "cell_type": "code",
   "execution_count": null,
   "metadata": {},
   "outputs": [],
   "source": []
  }
 ],
 "metadata": {
  "kernelspec": {
   "display_name": "Python 3",
   "language": "python",
   "name": "python3"
  },
  "language_info": {
   "codemirror_mode": {
    "name": "ipython",
    "version": 3
   },
   "file_extension": ".py",
   "mimetype": "text/x-python",
   "name": "python",
   "nbconvert_exporter": "python",
   "pygments_lexer": "ipython3",
   "version": "3.6.8"
  }
 },
 "nbformat": 4,
 "nbformat_minor": 2
}
